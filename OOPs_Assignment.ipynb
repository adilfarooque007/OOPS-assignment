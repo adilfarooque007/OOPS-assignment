{
  "nbformat": 4,
  "nbformat_minor": 0,
  "metadata": {
    "colab": {
      "provenance": []
    },
    "kernelspec": {
      "name": "python3",
      "display_name": "Python 3"
    },
    "language_info": {
      "name": "python"
    }
  },
  "cells": [
    {
      "cell_type": "markdown",
      "source": [
        "                           OOPS Assignment\n",
        "\n",
        "Q1. What is Object-Oriented Programming (OOP) ?\n",
        "  \n",
        "  - OOP stands for Object-Oriented Programming, and it refers to a programming paradigm or methodology that uses objects and classes to design and structure software. It focuses on the concept of organizing code around real-world objects, which can have both data (attributes) and behaviors (methods).\n",
        "\n",
        "Q2. What is a class in OOP\n",
        "  \n",
        "  - In Object-Oriented Programming (OOP), a class is a blueprint or template for creating objects. It defines the structure and behavior that the objects created from it will have.\n",
        "\n",
        "  Key aspects of a class:\n",
        "  Attributes (Properties): These are the data or characteristics that every object created from the class will have. They are defined inside the class. For example, in a Car class, attributes could include color, model, and engineType.\n",
        "\n",
        "  Methods (Functions or Behaviors): These are the actions or operations that objects of the class can perform. They are defined inside the class and are used to manipulate the attributes or perform actions related to the class. For example, a Car class might have methods like start(), stop(), and accelerate().\n",
        "\n",
        "Q3. What is an object in OOP ?\n",
        "\n",
        "  - In Object-Oriented Programming (OOP), an object is an instance of a class. It represents a specific entity that has attributes (properties) and methods (behaviors) defined by its class.\n",
        "\n",
        "  Key Characteristics of an Object:\n",
        "  Attributes (Properties): These are the data or characteristics associated with the object. They hold information specific to that object. For example, a Car object might have attributes like color, model, and engineType.\n",
        "\n",
        "  Methods (Behaviors): These are the actions or operations that an object can perform. Methods define how the object interacts with other objects or how it manipulates its own data. For example, a Car object might have methods like start(), accelerate(), and stop().\n",
        "\n",
        "Q4. What is the difference between abstraction and encapsulation ?\n",
        "\n",
        "  -  Abstraction:\n",
        "  Abstraction is about hiding the complexity of the system and showing only the essential features to the user. It focuses on what an object does rather than how it does it.\n",
        "\n",
        "  Purpose: To simplify the user interface by hiding unnecessary implementation details and exposing only the relevant parts of the object.\n",
        "\n",
        "  Focus: What an object can do, not how it performs those tasks.\n",
        "\n",
        "  Example: Consider a Car object. When you drive a car, you don't need to know how the engine works internally. All you need to know is how to use the steering wheel, accelerator, and brakes. The internal workings of the car (like the engine, transmission, etc.) are abstracted away from the driver.\n",
        "\n",
        "  In programming, you can use abstract classes or interfaces to achieve abstraction. These provide a simplified interface for interacting with objects, while hiding the internal details\n",
        "\n",
        "  Encapsulation:\n",
        "  Encapsulation is about bundling the data (attributes) and the methods (functions) that operate on the data into a single unit or class. It also involves restricting access to the internal state of the object by making some parts of the object private or protected, allowing controlled access via public methods (getters and setters).\n",
        "\n",
        "  Purpose: To protect the internal state of the object and control how it is accessed or modified. It restricts direct access to some of the object's components.\n",
        "  Focus: How the data is stored and accessed inside the object.\n",
        "  Example: For example, a BankAccount object might have an internal balance, but instead of directly accessing or modifying it, you would interact with methods like deposit() or withdraw(). This ensures that the balance cannot be set to an invalid value directly.\n",
        "\n",
        "Q5. What are dunder methods in Python ?\n",
        "\n",
        "  - In Python, dunder methods (short for double underscore methods) are special methods that are used to define the behavior of objects in various situations, such as during arithmetic operations, comparisons, string formatting, and more. These methods are also known as magic methods or special methods because they have a special meaning and are automatically invoked by the Python interpreter.\n",
        "\n",
        "Q6. Explain the concept of inheritance in OOP.\n",
        "\n",
        "  - Inheritance is a key concept in Object-Oriented Programming (OOP) that allows one class (called a child class or subclass) to inherit properties and behaviors (attributes and methods) from another class (called the parent class or superclass).\n",
        "\n",
        "  Key Aspects of Inheritance:\n",
        "  \n",
        "  1.Reusability:\n",
        "\n",
        "  Inheritance promotes code reuse because the child class can reuse the functionality of the parent class without needing to rewrite the code.\n",
        "  \n",
        "  2.Hierarchy:\n",
        "\n",
        "  Inheritance establishes a hierarchy between classes. The parent class is at the top, and the child class extends or inherits from it, creating a relationship that is often described as an \"is-a\" relationship.\n",
        "  For example, a Dog class might inherit from an Animal class because a dog is a type of animal.\n",
        "  \n",
        "  3.Overriding:\n",
        "\n",
        "  A child class can override the methods of its parent class. This means the child class can provide its own implementation of a method that was defined in the parent class.\n",
        "  \n",
        "  4.Access to Parent Class:\n",
        "\n",
        "  A child class can access and use the attributes and methods of the parent class, but it can also define its own additional attributes or methods specific to itself.\n",
        "\n",
        "Q7. What is polymorphism in OOP ?\n",
        "\n",
        "  - Polymorphism is one of the core concepts in Object-Oriented Programming (OOP), and it refers to the ability of different objects to respond to the same method or message in different ways. The term polymorphism comes from Greek words meaning \"many shapes\" or \"many forms.\"\n",
        "\n",
        "  Key Points About Polymorphism:\n",
        "  \n",
        "  1.Same Interface, Different Implementations: Polymorphism allows different objects to implement the same method or function in different ways, depending on their own unique behavior or class type.\n",
        "  \n",
        "  2.Method Overriding and Overloading: Polymorphism is typically achieved through method overriding (runtime polymorphism) or method overloading (compile-time polymorphism).\n",
        "  \n",
        "  3.\"Is-A\" Relationship: Polymorphism often works within an inheritance hierarchy where a subclass inherits from a parent class, and both share the same method names, but the subclass can provide its own specific implementation.\n",
        "\n",
        "Q8. How is encapsulation achieved in Python ?\n",
        "\n",
        "  - Encapsulation is one of the four fundamental principles of Object-Oriented Programming (OOP), and it refers to the practice of bundling the data (attributes) and the methods (functions) that operate on the data into a single unit (i.e., a class) and restricting access to certain components of the object to protect its internal state.\n",
        "\n",
        "  In Python, encapsulation is achieved by controlling access to the attributes and methods of an object using access modifiers, which are typically handled through private and public access levels.\n",
        "\n",
        "Q9. What is a constructor in Python ?\n",
        "\n",
        "  - A constructor in Python is a special method used to initialize the state of an object when it is created. In Python, the constructor is called the __init__() method. It is automatically invoked when a new instance (object) of a class is created, and it allows you to set initial values for the object's attributes or perform any setup operations.\n",
        "\n",
        "Q10. What are class and static methods in Python ?\n",
        "\n",
        "  - Class Methods\n",
        "  A class method is a method that is bound to the class and not the instance of the class. It takes the class as its first argument, rather than the instance (self). This first argument is typically named cls, and it allows the method to access class-level attributes and other class methods.\n",
        "\n",
        "  Static Methods\n",
        "  A static method is a method that does not depend on class or instance variables. It does not take self or cls as its first argument. A static method behaves like a regular function, but it belongs to the class's namespace.\n",
        "  Static methods are defined using the @staticmethod decorator.\n",
        "\n",
        "Q11. What is method overloading in Python ?\n",
        "\n",
        "  - Method overloading is a concept in object-oriented programming (OOP) where a method can have multiple definitions or signatures, typically with varying numbers of arguments or different types of arguments. This allows you to call the same method with different inputs, and the method behaves differently depending on the number or type of arguments.\n",
        "\n",
        "Q12.  What is method overriding in OOP ?  \n",
        "\n",
        "  - Method overriding in object-oriented programming (OOP) refers to the practice where a subclass provides a specific implementation of a method that is already defined in its parent class. When a subclass redefines or overrides a method of the parent class, the new version of the method is called when the method is invoked on an object of the subclass.\n",
        "\n",
        "Q13. What is a property decorator in Python ?\n",
        "\n",
        "  - In Python, the property decorator is used to create getter, setter, and deleter methods for an attribute in a class. It allows you to manage how an attribute is accessed, updated, and deleted, without directly exposing the underlying implementation or data.\n",
        "\n",
        "  The property decorator allows you to define methods that behave like attributes (i.e., you can access them without parentheses), making your code cleaner and more intuitive.\n",
        "\n",
        "Q14. Why is polymorphism important in OOP ?\n",
        "\n",
        "  - Why Polymorphism is Important in OOP:\n",
        "  \n",
        "  Code Reusability:\n",
        "\n",
        "  Polymorphism allows the reuse of code across different types of objects. You can write functions or methods that can handle objects of different classes without needing to know their specific types.\n",
        "  This reduces duplication and makes code more compact and easier to maintain.\n",
        "  \n",
        "  Flexibility and Maintainability:\n",
        "\n",
        "  With polymorphism, you can change the behavior of a system without changing the code that interacts with the system. For example, you can extend a class and override its methods without modifying the code that uses the class.\n",
        "  This allows for easy expansion of functionality by simply adding new classes that follow the same interface or inheritance structure, which makes the system more flexible.\n",
        "  \n",
        "  Simplifies Code:\n",
        "\n",
        "  Instead of writing multiple methods for each type of object, you can write a single method that works for all objects of different types (but that follow the same interface or inheritance hierarchy).\n",
        "  This simplifies the structure of the code, making it cleaner and easier to read.\n",
        "  \n",
        "  Improves Extensibility:\n",
        "\n",
        "  Polymorphism allows for the easy addition of new types without modifying existing code. As long as new types implement the required methods (or interface), existing code will work seamlessly with the new types.\n",
        "  This is particularly helpful in large projects where requirements might change, and new features or types need to be added without disrupting existing functionality.\n",
        "  \n",
        "  Supports Dynamic Method Binding (Runtime Polymorphism):\n",
        "\n",
        "  Polymorphism enables dynamic method binding (also known as late binding), where the method to be invoked is determined at runtime, based on the actual type of the object, rather than the reference type.\n",
        "  This allows for more dynamic and flexible systems where behavior can be determined at runtime based on the object's type.\n",
        "  \n",
        "  Decoupling:\n",
        "\n",
        "  Polymorphism promotes decoupling between the code that calls methods and the actual implementation of those methods. You can interact with objects through their common interface (base class or interface), without needing to know the exact class that implements the method.\n",
        "  This makes the code more modular and easier to maintain or modify, as changes in the implementation of a specific class don't affect the code that uses it.\n",
        "\n",
        "Q15. What is an abstract class in Python ?\n",
        "\n",
        "  - An abstract class in Python is a class that cannot be instantiated directly. It serves as a blueprint for other classes to inherit from, and it can contain abstract methods that must be implemented by its subclasses. Abstract classes are used to define a common interface for a group of related classes, ensuring that all subclasses implement the required methods.\n",
        "\n",
        "Q16. What are the advantages of OOP ?\n",
        "\n",
        "  - Object-Oriented Programming (OOP) offers several advantages that help in building robust, scalable, and maintainable software. It encourages better organization, code reuse, and a more natural mapping to real-world problems.\n",
        "\n",
        "Q17. What is the difference between a class variable and an instance variable ?\n",
        "\n",
        "  - Class variable:\n",
        "  A class variable in Python is a variable that is shared by all instances (objects) of a class. Unlike instance variables, which are unique to each instance of the class, class variables are stored in the class itself and are accessed using the class name or through any instance of the class.\n",
        "\n",
        "  Instance variable:\n",
        "  An instance variable in Python is a variable that is bound to the instance (object) of a class. It is used to store data that is unique to each instance of a class. Unlike class variables (which are shared across all instances of the class), each instance of the class can have its own value for an instance variable.\n",
        "\n",
        "Q18. What is multiple inheritance in Python ?\n",
        "\n",
        "  - Multiple inheritance in Python refers to the ability of a class to inherit attributes and methods from more than one parent class. This allows a child class to combine features from multiple base classes, providing greater flexibility in designing complex systems.\n",
        "\n",
        "Q19. Explain the purpose of \"__str__' and '__repr__\" methods in Python ?\n",
        "\n",
        "  - The __str__ method in Python is a special (or \"dunder\") method that is used to define the string representation of an object. The purpose of the __str__ method is to return a human-readable string representation of an object, which is typically used when you print an object or convert it to a string.\n",
        "\n",
        "  The __repr__ method in Python is a special method used to define the official string representation of an object. The primary purpose of the __repr__ method is to provide a unambiguous and detailed representation of an object, which can be useful for debugging and logging. The goal of __repr__ is to return a string that, if possible, could be used to recreate the object when passed to the eval() function. This is especially valuable for developers who need to inspect the internal details of objects.\n",
        "\n",
        "Q20. What is the significance of the ‘super()’ function in Python ?\n",
        "\n",
        "  - The super() function in Python is used to call methods from a parent (or superclass) in a class hierarchy, particularly when dealing with inheritance. It provides a way to access methods and properties of a parent class from within a child class, helping to ensure that the child class can properly inherit or extend the functionality of the parent class. The super() function is commonly used to call the constructor (__init__) or other methods of the parent class.\n",
        "\n",
        "Q21.  What is the significance of the __del__ method in Python ?\n",
        "\n",
        "  - The __del__ method in Python is a special (or \"dunder\") method, often referred to as a destructor, and it is called when an object is about to be destroyed or garbage collected. Its purpose is to allow you to perform any necessary cleanup, such as releasing resources (e.g., closing files, network connections, or database connections) before the object is removed from memory.\n",
        "\n",
        "Q22.  What is the difference between @staticmethod and @classmethod in Python ?\n",
        "\n",
        "  - Staticmethod:\n",
        "  A staticmethod is a method that does not require access to the instance or the class itself. It behaves just like a regular function, but it is defined inside the class for organizational purposes.\n",
        "  It does not take any special first argument (like self or cls) that would reference the instance or the class.\n",
        "\n",
        "  Classmethod:\n",
        "  A classmethod is a method that takes a reference to the class (cls) as its first parameter instead of a reference to an instance (self).\n",
        "  It is used when a method needs to operate on the class itself, rather than on instances of the class.\n",
        "\n",
        "Q23. How does polymorphism work in Python with inheritance ?\n",
        "\n",
        "  - Polymorphism with inheritance allows subclasses to implement their own versions of methods that are already defined in a superclass. When you call the same method on different objects, Python will invoke the appropriate method based on the object's actual class (this is called dynamic dispatch or late binding).\n",
        "\n",
        "Q24. What is method chaining in Python OOP ?\n",
        "\n",
        "  - Method chaining in Python (or in Object-Oriented Programming in general) refers to the practice of calling multiple methods on the same object in a single line of code. This is done by making each method return the object itself (typically self in Python), allowing for multiple method calls to be \"chained\" together.\n",
        "\n",
        "Q25. What is the purpose of the __call__ method in Python ?\n",
        "\n",
        "  - The __call__ method in Python is a special method (also called a dunder method, short for \"double underscore\") that allows an instance of a class to be called as if it were a function. When you define the __call__ method in a class, you enable instances of that class to be invoked like functions."
      ],
      "metadata": {
        "id": "rAojyh2fdP7-"
      }
    },
    {
      "cell_type": "code",
      "source": [
        "# Q1.  Create a parent class Animal with a method speak() that prints a generic message. Create a child class Dog\n",
        "#that overrides the speak() method to print \"Bark!\".\n",
        "\n",
        "class Animal:\n",
        "    def speak(self):\n",
        "        print(\"Some generic animal sound\")\n",
        "\n",
        "# Child class Dog that inherits from Animal\n",
        "class Dog(Animal):\n",
        "    def speak(self):\n",
        "        print(\"Bark!\")\n",
        "\n",
        "# Create an instance of Dog\n",
        "dog = Dog()\n",
        "dog.speak()  # Output: Bark!\n",
        "\n",
        "# Create an instance of Animal\n",
        "animal = Animal()\n",
        "animal.speak()"
      ],
      "metadata": {
        "colab": {
          "base_uri": "https://localhost:8080/"
        },
        "id": "KAd9-itBFmtd",
        "outputId": "b1a6bcc1-e7a7-4088-c5ec-f81ae1d90879"
      },
      "execution_count": null,
      "outputs": [
        {
          "output_type": "stream",
          "name": "stdout",
          "text": [
            "Bark!\n",
            "Some generic animal sound\n"
          ]
        }
      ]
    },
    {
      "cell_type": "code",
      "source": [
        "# Q2.  Write a program to create an abstract class Shape with a method area(). Derive classes Circle and Rectangle\n",
        "#from it and implement the area() method in both.\n",
        "\n",
        "\n",
        "\n",
        "from abc import ABC, abstractmethod\n",
        "import math\n",
        "\n",
        "# Abstract class Shape\n",
        "class Shape(ABC):\n",
        "    @abstractmethod\n",
        "    def area(self):\n",
        "        pass\n",
        "\n",
        "# Derived class Circle\n",
        "class Circle(Shape):\n",
        "    def __init__(self, radius):\n",
        "        self.radius = radius\n",
        "\n",
        "    def area(self):\n",
        "        return math.pi * self.radius ** 2\n",
        "\n",
        "# Derived class Rectangle\n",
        "class Rectangle(Shape):\n",
        "    def __init__(self, width, height):\n",
        "        self.width = width\n",
        "        self.height = height\n",
        "\n",
        "    def area(self):\n",
        "        return self.width * self.height\n",
        "\n",
        "# Create instances of Circle and Rectangle\n",
        "circle = Circle(5)\n",
        "rectangle = Rectangle(4, 6)\n",
        "\n",
        "# Output the areas\n",
        "print(f\"Area of Circle: {circle.area():.2f}\")  # Output: Area of Circle: 78.54\n",
        "print(f\"Area of Rectangle: {rectangle.area()}\")  # Output: Area of Rectangle: 24"
      ],
      "metadata": {
        "colab": {
          "base_uri": "https://localhost:8080/"
        },
        "id": "--BcmBHLFmp-",
        "outputId": "ee8a7b2c-b876-41b5-d6ac-b404aeffb95d"
      },
      "execution_count": null,
      "outputs": [
        {
          "output_type": "stream",
          "name": "stdout",
          "text": [
            "Area of Circle: 78.54\n",
            "Area of Rectangle: 24\n"
          ]
        }
      ]
    },
    {
      "cell_type": "code",
      "source": [
        "# Q3. Implement a multi-level inheritance scenario where a class Vehicle has an attribute type. Derive a class Car\n",
        "# and further derive a class ElectricCar that adds a battery attribute.\n",
        "\n",
        "class Vehicle:\n",
        "    def __init__(self, type_of_vehicle):\n",
        "        self.type = type_of_vehicle\n",
        "\n",
        "    def display_type(self):\n",
        "        print(f\"This is a {self.type} vehicle.\")\n",
        "\n",
        "# Derived class Car from Vehicle\n",
        "class Car(Vehicle):\n",
        "    def __init__(self, type_of_vehicle, brand):\n",
        "        super().__init__(type_of_vehicle)  # Calling the parent constructor\n",
        "        self.brand = brand\n",
        "\n",
        "    def display_brand(self):\n",
        "        print(f\"This car is a {self.brand}.\")\n",
        "\n",
        "# Further derived class ElectricCar from Car\n",
        "class ElectricCar(Car):\n",
        "    def __init__(self, type_of_vehicle, brand, battery_capacity):\n",
        "        super().__init__(type_of_vehicle, brand)  # Calling the parent constructor\n",
        "        self.battery_capacity = battery_capacity\n",
        "\n",
        "    def display_battery(self):\n",
        "        print(f\"This electric car has a battery capacity of {self.battery_capacity} kWh.\")\n",
        "\n",
        "# Create an instance of ElectricCar\n",
        "electric_car = ElectricCar(\"Electric\", \"Tesla\", 100)\n",
        "\n",
        "# Output information\n",
        "electric_car.display_type()         # Output: This is a Electric vehicle.\n",
        "electric_car.display_brand()        # Output: This car is a Tesla.\n",
        "electric_car.display_battery()      # Output: This electric car has a battery capacity of 100 kWh."
      ],
      "metadata": {
        "colab": {
          "base_uri": "https://localhost:8080/"
        },
        "id": "CyDLQF0AFmoa",
        "outputId": "a62a56a5-c4bd-4353-b580-fb702d999bd5"
      },
      "execution_count": null,
      "outputs": [
        {
          "output_type": "stream",
          "name": "stdout",
          "text": [
            "This is a Electric vehicle.\n",
            "This car is a Tesla.\n",
            "This electric car has a battery capacity of 100 kWh.\n"
          ]
        }
      ]
    },
    {
      "cell_type": "code",
      "source": [
        "# Q3. Implement a multi-level inheritance scenario where a class Vehicle has an attribute type. Derive a class Car\n",
        "# and further derive a class ElectricCar that adds a battery attribute.\n",
        "\n",
        "class Vehicle:\n",
        "    def __init__(self, type_of_vehicle):\n",
        "        self.type = type_of_vehicle\n",
        "\n",
        "    def display_type(self):\n",
        "        print(f\"This is a {self.type} vehicle.\")\n",
        "\n",
        "# Derived class Car from Vehicle\n",
        "class Car(Vehicle):\n",
        "    def __init__(self, type_of_vehicle, brand):\n",
        "        super().__init__(type_of_vehicle)  # Calling the parent constructor\n",
        "        self.brand = brand\n",
        "\n",
        "    def display_brand(self):\n",
        "        print(f\"This car is a {self.brand}.\")\n",
        "\n",
        "# Further derived class ElectricCar from Car\n",
        "class ElectricCar(Car):\n",
        "    def __init__(self, type_of_vehicle, brand, battery_capacity):\n",
        "        super().__init__(type_of_vehicle, brand)  # Calling the parent constructor\n",
        "        self.battery_capacity = battery_capacity\n",
        "\n",
        "    def display_battery(self):\n",
        "        print(f\"This electric car has a battery capacity of {self.battery_capacity} kWh.\")\n",
        "\n",
        "# Create an instance of ElectricCar\n",
        "electric_car = ElectricCar(\"Electric\", \"Tesla\", 100)\n",
        "\n",
        "# Output information\n",
        "electric_car.display_type()         # Output: This is a Electric vehicle.\n",
        "electric_car.display_brand()        # Output: This car is a Tesla.\n",
        "electric_car.display_battery()      # Output: This electric car has a battery capacity of 100 kWh."
      ],
      "metadata": {
        "colab": {
          "base_uri": "https://localhost:8080/"
        },
        "id": "OP5nQLqmFmmk",
        "outputId": "94722925-16f6-435c-c203-0828e84af0c3"
      },
      "execution_count": null,
      "outputs": [
        {
          "output_type": "stream",
          "name": "stdout",
          "text": [
            "This is a Electric vehicle.\n",
            "This car is a Tesla.\n",
            "This electric car has a battery capacity of 100 kWh.\n"
          ]
        }
      ]
    },
    {
      "cell_type": "code",
      "source": [
        "# Q5. . Write a program to demonstrate encapsulation by creating a class BankAccount with private attributes\n",
        "# balance and methods to deposit, withdraw, and check balance.\n",
        "\n",
        "class BankAccount:\n",
        "    def __init__(self, initial_balance=0):\n",
        "        self.__balance = initial_balance  # Private attribute\n",
        "\n",
        "    # Method to deposit money\n",
        "    def deposit(self, amount):\n",
        "        if amount > 0:\n",
        "            self.__balance += amount\n",
        "            print(f\"Deposited: ${amount}\")\n",
        "        else:\n",
        "            print(\"Deposit amount must be positive.\")\n",
        "\n",
        "    # Method to withdraw money\n",
        "    def withdraw(self, amount):\n",
        "        if amount > 0 and amount <= self.__balance:\n",
        "            self.__balance -= amount\n",
        "            print(f\"Withdrew: ${amount}\")\n",
        "        elif amount > self.__balance:\n",
        "            print(\"Insufficient balance!\")\n",
        "        else:\n",
        "            print(\"Withdrawal amount must be positive.\")\n",
        "\n",
        "    # Method to check the balance\n",
        "    def check_balance(self):\n",
        "        print(f\"Current balance: ${self.__balance}\")\n",
        "\n",
        "# Create a BankAccount instance\n",
        "account = BankAccount(1000)\n",
        "\n",
        "# Deposit money into the account\n",
        "account.deposit(500)  # Output: Deposited: $500\n",
        "\n",
        "# Withdraw money from the account\n",
        "account.withdraw(200)  # Output: Withdrew: $200\n",
        "\n",
        "# Check the balance\n",
        "account.check_balance()  # Output: Current balance: $1300\n",
        "\n",
        "# Attempt to withdraw more than available balance\n",
        "account.withdraw(1500)  # Output: Insufficient balance!\n",
        "\n",
        "# Attempt to deposit a negative amount\n",
        "account.deposit(-100)  # Output: Deposit amount must be positive."
      ],
      "metadata": {
        "colab": {
          "base_uri": "https://localhost:8080/"
        },
        "id": "JlEFMchiFmjt",
        "outputId": "1c1c8317-0d84-4601-d86d-c35c067adea5"
      },
      "execution_count": null,
      "outputs": [
        {
          "output_type": "stream",
          "name": "stdout",
          "text": [
            "Deposited: $500\n",
            "Withdrew: $200\n",
            "Current balance: $1300\n",
            "Insufficient balance!\n",
            "Deposit amount must be positive.\n"
          ]
        }
      ]
    },
    {
      "cell_type": "code",
      "source": [
        "# Q6. . Demonstrate runtime polymorphism using a method play() in a base class Instrument. Derive classes Guitar\n",
        "# and Piano that implement their own version of play().\n",
        "\n",
        "# Base class Instrument\n",
        "class Instrument:\n",
        "    def play(self):\n",
        "        print(\"Playing a generic instrument sound\")\n",
        "\n",
        "# Derived class Guitar\n",
        "class Guitar(Instrument):\n",
        "    def play(self):\n",
        "        print(\"Strumming the guitar!\")\n",
        "\n",
        "# Derived class Piano\n",
        "class Piano(Instrument):\n",
        "    def play(self):\n",
        "        print(\"Playing the piano!\")\n",
        "\n",
        "# Demonstrating runtime polymorphism\n",
        "\n",
        "# Create instances of Guitar and Piano\n",
        "instrument1 = Guitar()\n",
        "instrument2 = Piano()\n",
        "\n",
        "# Call the play() method on both instances\n",
        "instrument1.play()  # Output: Strumming the guitar!\n",
        "instrument2.play()  # Output: Playing the piano!"
      ],
      "metadata": {
        "colab": {
          "base_uri": "https://localhost:8080/"
        },
        "id": "RJsI5vQCFmiK",
        "outputId": "9dda26a6-dc0f-4d8d-9e48-1a9e61b75232"
      },
      "execution_count": null,
      "outputs": [
        {
          "output_type": "stream",
          "name": "stdout",
          "text": [
            "Strumming the guitar!\n",
            "Playing the piano!\n"
          ]
        }
      ]
    },
    {
      "cell_type": "code",
      "source": [
        "# Q7. Create a class MathOperations with a class method add_numbers() to add two numbers and a static\n",
        "# method subtract_numbers() to subtract two numbers.\n",
        "\n",
        "class MathOperations:\n",
        "    # Class method to add two numbers\n",
        "    @classmethod\n",
        "    def add_numbers(cls, a, b):\n",
        "        return a + b\n",
        "\n",
        "    # Static method to subtract two numbers\n",
        "    @staticmethod\n",
        "    def subtract_numbers(a, b):\n",
        "        return a - b\n",
        "\n",
        "# Demonstrating the class and static methods\n",
        "\n",
        "# Calling the class method using the class itself\n",
        "sum_result = MathOperations.add_numbers(10, 5)\n",
        "print(f\"Sum: {sum_result}\")  # Output: Sum: 15\n",
        "\n",
        "# Calling the static method using the class itself\n",
        "difference_result = MathOperations.subtract_numbers(10, 5)\n",
        "print(f\"Difference: {difference_result}\")  # Output: Difference: 5"
      ],
      "metadata": {
        "colab": {
          "base_uri": "https://localhost:8080/"
        },
        "id": "N-UrNYD1FmgN",
        "outputId": "40feb7d3-e028-4d5e-ebc7-f8e179b28968"
      },
      "execution_count": null,
      "outputs": [
        {
          "output_type": "stream",
          "name": "stdout",
          "text": [
            "Sum: 15\n",
            "Difference: 5\n"
          ]
        }
      ]
    },
    {
      "cell_type": "code",
      "source": [
        "# Q8.  Implement a class Person with a class method to count the total number of persons created.\n",
        "\n",
        "class Person:\n",
        "    # Class attribute to count the number of persons created\n",
        "    total_persons = 0\n",
        "\n",
        "    def __init__(self, name, age):\n",
        "        self.name = name\n",
        "        self.age = age\n",
        "        # Increment the total_persons class attribute each time a new person is created\n",
        "        Person.total_persons += 1\n",
        "\n",
        "    # Class method to get the total number of persons created\n",
        "    @classmethod\n",
        "    def get_total_persons(cls):\n",
        "        return cls.total_persons\n",
        "\n",
        "# Creating instances of the Person class\n",
        "person1 = Person(\"Alice\", 30)\n",
        "person2 = Person(\"Bob\", 25)\n",
        "person3 = Person(\"Charlie\", 35)\n",
        "\n",
        "# Using the class method to get the total number of persons created\n",
        "print(f\"Total number of persons created: {Person.get_total_persons()}\")  # Output: Total number of persons created: 3"
      ],
      "metadata": {
        "colab": {
          "base_uri": "https://localhost:8080/"
        },
        "id": "Cdrkv6Z1Fmdi",
        "outputId": "22760c7d-18d5-4609-9471-9e66afd2b3ee"
      },
      "execution_count": null,
      "outputs": [
        {
          "output_type": "stream",
          "name": "stdout",
          "text": [
            "Total number of persons created: 3\n"
          ]
        }
      ]
    },
    {
      "cell_type": "code",
      "source": [
        "# Q9. 9. Write a class Fraction with attributes numerator and denominator. Override the str method to display the\n",
        "# fraction as \"numerator/denominator\".\n",
        "\n",
        "class Fraction:\n",
        "    def __init__(self, numerator, denominator):\n",
        "        self.numerator = numerator\n",
        "        self.denominator = denominator\n",
        "\n",
        "    # Overriding the __str__ method to display the fraction as \"numerator/denominator\"\n",
        "    def __str__(self):\n",
        "        return f\"{self.numerator}/{self.denominator}\"\n",
        "\n",
        "# Creating an instance of Fraction\n",
        "fraction = Fraction(3, 4)\n",
        "\n",
        "# Printing the fraction\n",
        "print(fraction)  # Output: 3/4"
      ],
      "metadata": {
        "colab": {
          "base_uri": "https://localhost:8080/"
        },
        "id": "hnOoU23mFmcC",
        "outputId": "1dfc0639-1794-4239-cf65-a2d6ecb846d8"
      },
      "execution_count": null,
      "outputs": [
        {
          "output_type": "stream",
          "name": "stdout",
          "text": [
            "3/4\n"
          ]
        }
      ]
    },
    {
      "cell_type": "code",
      "source": [
        "# Q10. . Demonstrate operator overloading by creating a class Vector and overriding the add method to add two\n",
        "# vectors\n",
        "\n",
        "class Vector:\n",
        "    def __init__(self, x, y):\n",
        "        self.x = x\n",
        "        self.y = y\n",
        "\n",
        "    # Overloading the + operator using __add__\n",
        "    def __add__(self, other):\n",
        "        # Adding corresponding components of the two vectors\n",
        "        return Vector(self.x + other.x, self.y + other.y)\n",
        "\n",
        "    # Overriding __str__ to display the vector as (x, y)\n",
        "    def __str__(self):\n",
        "        return f\"({self.x}, {self.y})\"\n",
        "\n",
        "# Creating two Vector instances\n",
        "vector1 = Vector(2, 3)\n",
        "vector2 = Vector(4, 5)\n",
        "\n",
        "# Adding the two vectors using the overloaded + operator\n",
        "result = vector1 + vector2\n",
        "\n",
        "# Printing the result\n",
        "print(f\"Vector 1: {vector1}\")  # Output: Vector 1: (2, 3)\n",
        "print(f\"Vector 2: {vector2}\")  # Output: Vector 2: (4, 5)\n",
        "print(f\"Sum of vectors: {result}\")  # Output: Sum of vectors: (6, 8)"
      ],
      "metadata": {
        "colab": {
          "base_uri": "https://localhost:8080/"
        },
        "id": "_y5eWhrFFmaK",
        "outputId": "d2c1cdda-3ee0-4188-9d5f-681569aa52e4"
      },
      "execution_count": null,
      "outputs": [
        {
          "output_type": "stream",
          "name": "stdout",
          "text": [
            "Vector 1: (2, 3)\n",
            "Vector 2: (4, 5)\n",
            "Sum of vectors: (6, 8)\n"
          ]
        }
      ]
    },
    {
      "cell_type": "code",
      "source": [
        "# Q11. Create a class Person with attributes name and age. Add a method greet() that prints \"Hello, my name is\n",
        "# {name} and I am {age} years old.\"\n",
        "\n",
        "class Person:\n",
        "    def __init__(self, name, age):\n",
        "        self.name = name  # Attribute for person's name\n",
        "        self.age = age    # Attribute for person's age\n",
        "\n",
        "    # Method to greet with person's name and age\n",
        "    def greet(self):\n",
        "        print(f\"Hello, my name is {self.name} and I am {self.age} years old.\")\n",
        "\n",
        "# Creating an instance of the Person class\n",
        "person1 = Person(\"Alice\", 30)\n",
        "\n",
        "# Calling the greet method\n",
        "person1.greet()  # Output: Hello, my name is Alice and I am 30 years old."
      ],
      "metadata": {
        "id": "E-luApTpFmXI"
      },
      "execution_count": null,
      "outputs": []
    },
    {
      "cell_type": "code",
      "source": [
        "# Q12. Implement a class Student with attributes name and grades. Create a method average_grade() to compute\n",
        "# the average of the grades.\n",
        "\n",
        "class Student:\n",
        "    def __init__(self, name, grades):\n",
        "        self.name = name  # Attribute for student's name\n",
        "        self.grades = grades  # Attribute for student's list of grades\n",
        "\n",
        "    # Method to compute the average of the grades\n",
        "    def average_grade(self):\n",
        "        if len(self.grades) > 0:\n",
        "            return sum(self.grades) / len(self.grades)  # Calculate average by dividing the sum of grades by the number of grades\n",
        "        else:\n",
        "            return 0  # If no grades are provided, return 0 to avoid division by zero\n",
        "\n",
        "# Creating an instance of the Student class\n",
        "student1 = Student(\"John\", [85, 90, 78, 92, 88])\n",
        "\n",
        "# Calling the average_grade method to compute the average of grades\n",
        "print(f\"{student1.name}'s average grade: {student1.average_grade()}\")  # Output: John's average grade: 86.6"
      ],
      "metadata": {
        "colab": {
          "base_uri": "https://localhost:8080/"
        },
        "id": "-ZEy-PiSLq_Z",
        "outputId": "0f9c610a-4370-44e1-d2bd-98025cbe82c0"
      },
      "execution_count": null,
      "outputs": [
        {
          "output_type": "stream",
          "name": "stdout",
          "text": [
            "John's average grade: 86.6\n"
          ]
        }
      ]
    },
    {
      "cell_type": "code",
      "source": [
        "# Q13. Create a class Rectangle with methods set_dimensions() to set the dimensions and area() to calculate the\n",
        "# area.\n",
        "\n",
        "class Rectangle:\n",
        "    def __init__(self):\n",
        "        self.length = 0  # Initial length is 0\n",
        "        self.width = 0   # Initial width is 0\n",
        "\n",
        "    # Method to set the dimensions of the rectangle\n",
        "    def set_dimensions(self, length, width):\n",
        "        self.length = length\n",
        "        self.width = width\n",
        "\n",
        "    # Method to calculate the area of the rectangle\n",
        "    def area(self):\n",
        "        return self.length * self.width\n",
        "\n",
        "# Creating an instance of the Rectangle class\n",
        "rectangle = Rectangle()\n",
        "\n",
        "# Setting the dimensions using set_dimensions method\n",
        "rectangle.set_dimensions(5, 3)\n",
        "\n",
        "# Calculating and printing the area of the rectangle\n",
        "print(f\"Area of the rectangle: {rectangle.area()}\")  # Output: Area of the rectangle: 15"
      ],
      "metadata": {
        "colab": {
          "base_uri": "https://localhost:8080/"
        },
        "id": "u2OxQlujLq8Y",
        "outputId": "253777ae-324c-4078-d7ce-9cf3092f9c1b"
      },
      "execution_count": null,
      "outputs": [
        {
          "output_type": "stream",
          "name": "stdout",
          "text": [
            "Area of the rectangle: 15\n"
          ]
        }
      ]
    },
    {
      "cell_type": "code",
      "source": [
        "# Q14.  Create a class Employee with a method calculate_salary() that computes the salary based on hours worked\n",
        "# and hourly rate. Create a derived class Manager that adds a bonus to the salary.\n",
        "\n",
        "class Employee:\n",
        "    def __init__(self, name, hours_worked, hourly_rate):\n",
        "        self.name = name  # Employee's name\n",
        "        self.hours_worked = hours_worked  # Number of hours worked\n",
        "        self.hourly_rate = hourly_rate  # Hourly wage rate\n",
        "\n",
        "    # Method to calculate the salary based on hours worked and hourly rate\n",
        "    def calculate_salary(self):\n",
        "        return self.hours_worked * self.hourly_rate\n",
        "\n",
        "class Manager(Employee):\n",
        "    def __init__(self, name, hours_worked, hourly_rate, bonus):\n",
        "        super().__init__(name, hours_worked, hourly_rate)  # Call the parent class constructor\n",
        "        self.bonus = bonus  # Additional bonus for the Manager\n",
        "\n",
        "    # Overriding the calculate_salary method to include the bonus\n",
        "    def calculate_salary(self):\n",
        "        base_salary = super().calculate_salary()  # Get the base salary from the parent class\n",
        "        return base_salary + self.bonus  # Add bonus to the base salary\n",
        "\n",
        "# Creating an Employee instance\n",
        "employee = Employee(\"John Doe\", 40, 25)\n",
        "\n",
        "# Creating a Manager instance\n",
        "manager = Manager(\"Alice Smith\", 40, 30, 500)\n",
        "\n",
        "# Calculating and printing the salary for the Employee\n",
        "print(f\"{employee.name}'s salary: ${employee.calculate_salary()}\")  # Output: John's salary: $1000\n",
        "\n",
        "# Calculating and printing the salary for the Manager\n",
        "print(f\"{manager.name}'s salary (with bonus): ${manager.calculate_salary()}\")  # Output: Alice's salary (with bonus): $1700"
      ],
      "metadata": {
        "colab": {
          "base_uri": "https://localhost:8080/"
        },
        "id": "MK0FJz5bLq6_",
        "outputId": "78bc1933-20cd-474c-e1c7-1789d605719e"
      },
      "execution_count": null,
      "outputs": [
        {
          "output_type": "stream",
          "name": "stdout",
          "text": [
            "John Doe's salary: $1000\n",
            "Alice Smith's salary (with bonus): $1700\n"
          ]
        }
      ]
    },
    {
      "cell_type": "code",
      "source": [],
      "metadata": {
        "id": "pcXwY-hcLq46"
      },
      "execution_count": null,
      "outputs": []
    }
  ]
}